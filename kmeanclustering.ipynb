{
 "cells": [
  {
   "cell_type": "code",
   "execution_count": 20,
   "metadata": {},
   "outputs": [],
   "source": [
    "import preprocessing\n",
    "import numpy as np\n",
    "\n",
    "Xtrain=preprocessing.kag_X_train\n",
    "Xtest=preprocessing.kag_X_test\n",
    "ytrain=preprocessing.kag_y_train\n",
    "ytest=preprocessing.kag_y_test\n",
    "\n",
    "class1=Xtrain[ytrain==1]\n",
    "class2=Xtrain[ytrain==0]\n"
   ]
  },
  {
   "cell_type": "code",
   "execution_count": 24,
   "metadata": {},
   "outputs": [
    {
     "data": {
      "text/plain": [
       "0.49869611903666206"
      ]
     },
     "execution_count": 24,
     "metadata": {},
     "output_type": "execute_result"
    }
   ],
   "source": [
    "from sklearn.cluster import KMeans\n",
    "model = KMeans(n_clusters=2)\n",
    "model.fit(Xtrain)\n",
    "\n",
    "model.labels_\n",
    "# model.cluster_centers_\n",
    "\n",
    "# class1=Xtrain[model.labels_==0]\n",
    "# class2=Xtrain[model.labels_==1]\n",
    "\n",
    "np.sum(ytrain ==model.labels_)/len(Xtrain)"
   ]
  }
 ],
 "metadata": {
  "kernelspec": {
   "display_name": "Python 3",
   "language": "python",
   "name": "python3"
  },
  "language_info": {
   "codemirror_mode": {
    "name": "ipython",
    "version": 3
   },
   "file_extension": ".py",
   "mimetype": "text/x-python",
   "name": "python",
   "nbconvert_exporter": "python",
   "pygments_lexer": "ipython3",
   "version": "3.12.1"
  }
 },
 "nbformat": 4,
 "nbformat_minor": 2
}
